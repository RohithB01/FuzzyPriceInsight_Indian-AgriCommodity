{
  "nbformat": 4,
  "nbformat_minor": 0,
  "metadata": {
    "colab": {
      "provenance": [],
      "gpuType": "T4"
    },
    "kernelspec": {
      "name": "python3",
      "display_name": "Python 3"
    },
    "language_info": {
      "name": "python"
    },
    "accelerator": "GPU"
  },
  "cells": [
    {
      "cell_type": "markdown",
      "source": [
        "# **Auto fit the arima model**"
      ],
      "metadata": {
        "id": "Ryju667ysODX"
      }
    },
    {
      "cell_type": "code",
      "source": [
        "!pip install auto_arima"
      ],
      "metadata": {
        "colab": {
          "base_uri": "https://localhost:8080/"
        },
        "id": "v1AdY_zn6Qa_",
        "outputId": "04d34c63-44fd-40ff-e761-207725803195"
      },
      "execution_count": null,
      "outputs": [
        {
          "output_type": "stream",
          "name": "stdout",
          "text": [
            "\u001b[31mERROR: Could not find a version that satisfies the requirement auto_arima (from versions: none)\u001b[0m\u001b[31m\n",
            "\u001b[0m\u001b[31mERROR: No matching distribution found for auto_arima\u001b[0m\u001b[31m\n",
            "\u001b[0m"
          ]
        }
      ]
    },
    {
      "cell_type": "code",
      "execution_count": null,
      "metadata": {
        "colab": {
          "base_uri": "https://localhost:8080/"
        },
        "id": "U8MN8sN1qKcU",
        "outputId": "f7391074-85f5-4f27-f1b9-3678dbe1bb14"
      },
      "outputs": [
        {
          "output_type": "stream",
          "name": "stdout",
          "text": [
            "Requirement already satisfied: numpy==1.24.4 in /usr/local/lib/python3.11/dist-packages (1.24.4)\n",
            "Collecting pmdarima==1.8.5\n",
            "  Using cached pmdarima-1.8.5.tar.gz (639 kB)\n",
            "  Preparing metadata (setup.py) ... \u001b[?25l\u001b[?25hdone\n",
            "Requirement already satisfied: joblib>=0.11 in /usr/local/lib/python3.11/dist-packages (from pmdarima==1.8.5) (1.5.1)\n",
            "Requirement already satisfied: Cython!=0.29.18,>=0.29 in /usr/local/lib/python3.11/dist-packages (from pmdarima==1.8.5) (3.0.12)\n",
            "Requirement already satisfied: numpy>=1.19.3 in /usr/local/lib/python3.11/dist-packages (from pmdarima==1.8.5) (1.24.4)\n",
            "Requirement already satisfied: pandas>=0.19 in /usr/local/lib/python3.11/dist-packages (from pmdarima==1.8.5) (2.2.2)\n",
            "Requirement already satisfied: scikit-learn>=0.22 in /usr/local/lib/python3.11/dist-packages (from pmdarima==1.8.5) (1.6.1)\n",
            "Requirement already satisfied: scipy>=1.3.2 in /usr/local/lib/python3.11/dist-packages (from pmdarima==1.8.5) (1.15.3)\n",
            "Requirement already satisfied: statsmodels!=0.12.0,>=0.11 in /usr/local/lib/python3.11/dist-packages (from pmdarima==1.8.5) (0.14.5)\n",
            "Requirement already satisfied: urllib3 in /usr/local/lib/python3.11/dist-packages (from pmdarima==1.8.5) (2.4.0)\n",
            "Requirement already satisfied: setuptools!=50.0.0,>=38.6.0 in /usr/local/lib/python3.11/dist-packages (from pmdarima==1.8.5) (75.2.0)\n",
            "Requirement already satisfied: python-dateutil>=2.8.2 in /usr/local/lib/python3.11/dist-packages (from pandas>=0.19->pmdarima==1.8.5) (2.9.0.post0)\n",
            "Requirement already satisfied: pytz>=2020.1 in /usr/local/lib/python3.11/dist-packages (from pandas>=0.19->pmdarima==1.8.5) (2025.2)\n",
            "Requirement already satisfied: tzdata>=2022.7 in /usr/local/lib/python3.11/dist-packages (from pandas>=0.19->pmdarima==1.8.5) (2025.2)\n",
            "Requirement already satisfied: threadpoolctl>=3.1.0 in /usr/local/lib/python3.11/dist-packages (from scikit-learn>=0.22->pmdarima==1.8.5) (3.6.0)\n",
            "Requirement already satisfied: patsy>=0.5.6 in /usr/local/lib/python3.11/dist-packages (from statsmodels!=0.12.0,>=0.11->pmdarima==1.8.5) (1.0.1)\n",
            "Requirement already satisfied: packaging>=21.3 in /usr/local/lib/python3.11/dist-packages (from statsmodels!=0.12.0,>=0.11->pmdarima==1.8.5) (24.2)\n",
            "Requirement already satisfied: six>=1.5 in /usr/local/lib/python3.11/dist-packages (from python-dateutil>=2.8.2->pandas>=0.19->pmdarima==1.8.5) (1.17.0)\n",
            "Building wheels for collected packages: pmdarima\n",
            "  \u001b[1;31merror\u001b[0m: \u001b[1msubprocess-exited-with-error\u001b[0m\n",
            "  \n",
            "  \u001b[31m×\u001b[0m \u001b[32mpython setup.py bdist_wheel\u001b[0m did not run successfully.\n",
            "  \u001b[31m│\u001b[0m exit code: \u001b[1;36m1\u001b[0m\n",
            "  \u001b[31m╰─>\u001b[0m See above for output.\n",
            "  \n",
            "  \u001b[1;35mnote\u001b[0m: This error originates from a subprocess, and is likely not a problem with pip.\n",
            "  Building wheel for pmdarima (setup.py) ... \u001b[?25lerror\n",
            "\u001b[31m  ERROR: Failed building wheel for pmdarima\u001b[0m\u001b[31m\n",
            "\u001b[0m\u001b[?25h  Running setup.py clean for pmdarima\n",
            "Failed to build pmdarima\n",
            "\u001b[31mERROR: ERROR: Failed to build installable wheels for some pyproject.toml based projects (pmdarima)\u001b[0m\u001b[31m\n",
            "\u001b[0m"
          ]
        }
      ],
      "source": [
        "!pip install numpy==1.24.4\n",
        "!pip install pmdarima==1.8.5\n"
      ]
    },
    {
      "cell_type": "code",
      "source": [
        "import pandas as pd\n",
        "from pmdarima import auto_arima\n",
        "import matplotlib.pyplot as plt\n",
        "\n",
        "# Load and prepare data\n",
        "df = pd.read_csv(\"bengaluru_potato.csv\")\n",
        "df['date'] = pd.to_datetime(df['date'])\n",
        "df = df.sort_values(by='date')\n",
        "retail_series = df['bengaluru_retailprice']\n",
        "\n",
        "# Auto ARIMA model\n",
        "auto_model = auto_arima(retail_series, seasonal=False, trace=True,\n",
        "                        error_action='ignore', suppress_warnings=True, stepwise=True)\n",
        "\n",
        "# Summary\n",
        "print(auto_model.summary())\n",
        "\n",
        "# Forecast next 12 months\n",
        "forecast = auto_model.predict(n_periods=12)\n",
        "\n",
        "# Generate future dates\n",
        "future_dates = pd.date_range(start=df['date'].iloc[-1] + pd.DateOffset(months=1), periods=12, freq='MS')\n",
        "\n",
        "# Plot\n",
        "plt.figure(figsize=(10, 5))\n",
        "plt.plot(df['date'], retail_series, label='Original')\n",
        "plt.plot(future_dates, forecast, label='Forecast', color='green', marker='o')\n",
        "plt.legend()\n",
        "plt.title('Auto ARIMA Forecast – Next 12 Months')\n",
        "plt.xlabel('Date')\n",
        "plt.ylabel('Retail Price')\n",
        "plt.grid(True)\n",
        "plt.show()\n"
      ],
      "metadata": {
        "colab": {
          "base_uri": "https://localhost:8080/",
          "height": 384
        },
        "id": "k3GTZkRZqMMf",
        "outputId": "4fa57732-8b08-4437-f999-ad7b61d329af"
      },
      "execution_count": null,
      "outputs": [
        {
          "output_type": "error",
          "ename": "ModuleNotFoundError",
          "evalue": "No module named 'pmdarima'",
          "traceback": [
            "\u001b[0;31m---------------------------------------------------------------------------\u001b[0m",
            "\u001b[0;31mModuleNotFoundError\u001b[0m                       Traceback (most recent call last)",
            "\u001b[0;32m/tmp/ipython-input-7-4267082460.py\u001b[0m in \u001b[0;36m<cell line: 0>\u001b[0;34m()\u001b[0m\n\u001b[1;32m      1\u001b[0m \u001b[0;32mimport\u001b[0m \u001b[0mpandas\u001b[0m \u001b[0;32mas\u001b[0m \u001b[0mpd\u001b[0m\u001b[0;34m\u001b[0m\u001b[0;34m\u001b[0m\u001b[0m\n\u001b[0;32m----> 2\u001b[0;31m \u001b[0;32mfrom\u001b[0m \u001b[0mpmdarima\u001b[0m \u001b[0;32mimport\u001b[0m \u001b[0mauto_arima\u001b[0m\u001b[0;34m\u001b[0m\u001b[0;34m\u001b[0m\u001b[0m\n\u001b[0m\u001b[1;32m      3\u001b[0m \u001b[0;32mimport\u001b[0m \u001b[0mmatplotlib\u001b[0m\u001b[0;34m.\u001b[0m\u001b[0mpyplot\u001b[0m \u001b[0;32mas\u001b[0m \u001b[0mplt\u001b[0m\u001b[0;34m\u001b[0m\u001b[0;34m\u001b[0m\u001b[0m\n\u001b[1;32m      4\u001b[0m \u001b[0;34m\u001b[0m\u001b[0m\n\u001b[1;32m      5\u001b[0m \u001b[0;31m# Load and prepare data\u001b[0m\u001b[0;34m\u001b[0m\u001b[0;34m\u001b[0m\u001b[0m\n",
            "\u001b[0;31mModuleNotFoundError\u001b[0m: No module named 'pmdarima'",
            "",
            "\u001b[0;31m---------------------------------------------------------------------------\u001b[0;32m\nNOTE: If your import is failing due to a missing package, you can\nmanually install dependencies using either !pip or !apt.\n\nTo view examples of installing some common dependencies, click the\n\"Open Examples\" button below.\n\u001b[0;31m---------------------------------------------------------------------------\u001b[0m\n"
          ],
          "errorDetails": {
            "actions": [
              {
                "action": "open_url",
                "actionText": "Open Examples",
                "url": "/notebooks/snippets/importing_libraries.ipynb"
              }
            ]
          }
        }
      ]
    },
    {
      "cell_type": "code",
      "source": [
        "auto_model.summary()"
      ],
      "metadata": {
        "id": "qpXH65H-r0_J"
      },
      "execution_count": null,
      "outputs": []
    },
    {
      "cell_type": "markdown",
      "source": [
        "# **Evaluate model predictions**"
      ],
      "metadata": {
        "id": "xSHXJwY6r_c1"
      }
    },
    {
      "cell_type": "code",
      "source": [
        "import pandas as pd\n",
        "from statsmodels.tsa.arima.model import ARIMA\n",
        "from sklearn.metrics import mean_absolute_error, mean_squared_error\n",
        "import numpy as np\n",
        "\n",
        "# Load and prepare data\n",
        "df = pd.read_csv(\"bengaluru_potato.csv\")\n",
        "df['date'] = pd.to_datetime(df['date'])\n",
        "df = df.sort_values(by='date')\n",
        "retail_series = df['bengaluru_retailprice']\n",
        "\n",
        "# Split into train (90%) and test (10%)\n",
        "split_index = int(len(retail_series) * 0.9)\n",
        "train = retail_series[:split_index]\n",
        "test = retail_series[split_index:]\n",
        "\n",
        "# Fit ARIMA on training data\n",
        "model = ARIMA(train, order=(1, 1, 1))\n",
        "fitted_model = model.fit()\n",
        "\n",
        "# Forecast for test period\n",
        "forecast = fitted_model.forecast(steps=len(test))\n",
        "\n",
        "# Evaluation metrics\n",
        "mae = mean_absolute_error(test, forecast)\n",
        "rmse = np.sqrt(mean_squared_error(test, forecast))\n",
        "mape = np.mean(np.abs((test - forecast) / test)) * 100\n",
        "\n",
        "print(f\"MAE  = {mae:.2f}\")\n",
        "print(f\"RMSE = {rmse:.2f}\")\n",
        "print(f\"MAPE = {mape:.2f}%\")\n"
      ],
      "metadata": {
        "id": "RCi9Y4gcsBoG"
      },
      "execution_count": null,
      "outputs": []
    },
    {
      "cell_type": "code",
      "source": [
        "import matplotlib.pyplot as plt\n",
        "\n",
        "# Plot actual vs predicted\n",
        "plt.plot(test.index, test, label='Actual', marker='o')\n",
        "plt.plot(test.index, forecast, label='Predicted', marker='o', color='green')\n",
        "plt.title('ARIMA: Actual vs Predicted (Test Set)')\n",
        "plt.xlabel('Index')\n",
        "plt.ylabel('Retail Price')\n",
        "plt.legend()\n",
        "plt.grid(True)\n",
        "plt.tight_layout()\n",
        "plt.show()\n"
      ],
      "metadata": {
        "id": "M3OLWIMqsbLD"
      },
      "execution_count": null,
      "outputs": []
    },
    {
      "cell_type": "code",
      "source": [
        "!pip install scikit-fuzzy\n",
        "!pip install scikit-learn\n"
      ],
      "metadata": {
        "id": "MHhQIv_k0OZn"
      },
      "execution_count": null,
      "outputs": []
    },
    {
      "cell_type": "code",
      "source": [
        "import pandas as pd\n",
        "import numpy as np\n",
        "from sklearn.preprocessing import MinMaxScaler\n",
        "import skfuzzy as fuzz\n",
        "import matplotlib.pyplot as plt\n",
        "\n",
        "# Load and prepare data\n",
        "df = pd.read_csv(\"bengaluru_potato.csv\")\n",
        "df['date'] = pd.to_datetime(df['date'])\n",
        "df = df.sort_values('date')\n",
        "\n",
        "# Select relevant features (you can add more features)\n",
        "features = df[['bengaluru_wholesaleprice', 'bengaluru_volume', 'bengaluru_avg._temperature']]\n",
        "target = df['bengaluru_retailprice'].values\n",
        "\n",
        "# Normalize features\n",
        "scaler = MinMaxScaler()\n",
        "scaled_features = scaler.fit_transform(features)\n",
        "\n",
        "# Apply Fuzzy C-Means clustering\n",
        "n_clusters = 3\n",
        "cntr, u, _, _, _, _, _ = fuzz.cluster.cmeans(\n",
        "    scaled_features.T, c=n_clusters, m=2.0, error=0.005, maxiter=1000, init=None)\n",
        "\n",
        "# Assign each sample to the cluster with highest membership\n",
        "cluster_membership = np.argmax(u, axis=0)\n",
        "\n",
        "# Calculate average retail price per cluster (for prediction)\n",
        "cluster_retail_means = [target[cluster_membership == i].mean() for i in range(n_clusters)]\n",
        "\n",
        "# Predict retail price based on highest membership cluster\n",
        "fcm_predictions = [cluster_retail_means[i] for i in cluster_membership]\n",
        "\n",
        "# Plot actual vs predicted\n",
        "plt.figure(figsize=(10, 5))\n",
        "plt.plot(df['date'], target, label='Actual', marker='o')\n",
        "plt.plot(df['date'], fcm_predictions, label='Predicted (Fuzzy C-Means)', marker='x')\n",
        "plt.title('Fuzzy C-Means: Retail Price Prediction')\n",
        "plt.xlabel('Date')\n",
        "plt.ylabel('Retail Price')\n",
        "plt.legend()\n",
        "plt.grid(True)\n",
        "plt.show()\n"
      ],
      "metadata": {
        "id": "_s-RXXT74mv4"
      },
      "execution_count": null,
      "outputs": []
    },
    {
      "cell_type": "code",
      "source": [
        "# Store actual and both model predictions\n",
        "comparison_df = pd.DataFrame({\n",
        "    'date': df['date'],\n",
        "    'actual': target,\n",
        "    'fcm_predicted': fcm_predictions,\n",
        "    'arima_predicted': [np.nan]*(len(df)-len(forecast)) + list(forecast)  # Align ARIMA forecast to last part\n",
        "})\n"
      ],
      "metadata": {
        "id": "zFrKHbmq5uqS"
      },
      "execution_count": null,
      "outputs": []
    }
  ]
}